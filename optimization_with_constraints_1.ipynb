{
  "nbformat": 4,
  "nbformat_minor": 0,
  "metadata": {
    "anaconda-cloud": {},
    "kernelspec": {
      "display_name": "Python 3",
      "language": "python",
      "name": "python3"
    },
    "language_info": {
      "codemirror_mode": {
        "name": "ipython",
        "version": 3
      },
      "file_extension": ".py",
      "mimetype": "text/x-python",
      "name": "python",
      "nbconvert_exporter": "python",
      "pygments_lexer": "ipython3",
      "version": "3.7.6"
    },
    "colab": {
      "name": "optimization_with_constraints_1.ipynb",
      "provenance": [],
      "collapsed_sections": [],
      "include_colab_link": true
    }
  },
  "cells": [
    {
      "cell_type": "markdown",
      "metadata": {
        "id": "view-in-github",
        "colab_type": "text"
      },
      "source": [
        "<a href=\"https://colab.research.google.com/github/xiaoras/Optimization-with-Constraints-1/blob/master/optimization_with_constraints_1.ipynb\" target=\"_parent\"><img src=\"https://colab.research.google.com/assets/colab-badge.svg\" alt=\"Open In Colab\"/></a>"
      ]
    },
    {
      "cell_type": "markdown",
      "metadata": {
        "id": "dFrryVbuno1Y",
        "colab_type": "text"
      },
      "source": [
        "# Optimization\n",
        "\n",
        "<p>\n",
        "<div style=\"text-align: justify\">\n",
        "Most problems of data science consist in finding \"optimal paramters\", i.e., identifying the point $x \\in \\mathbb R^n$ for which some function $f$ is minimal:\n",
        "\\begin{align}\n",
        "\\text{arg}\\min_x f(x)\n",
        "\\end{align}\n",
        "Local minima (as well as local maxima and saddle points) of a multivariate function are identified by the requirement that the gradient vanishes:\n",
        "\\begin{align}\n",
        "J_i(x) := \\partial_i f(x) = 0\n",
        "\\end{align}\n",
        "for $i=1,2,..,n$.\n",
        "</div>\n",
        "<p>\n",
        "<ul>\n",
        "  <li><div style=\"text-align: justify\">If $f$ is convex, this requirement is sufficent to identify the global mimimum.</div></li>\n",
        "  <p>\n",
        "  <li><div style=\"text-align: justify\">Otherwise, we must consider the second derivarives of $f$:\n",
        "\\begin{align}\n",
        "H_{ij}(x) := \\partial_i \\partial_j f(x)\n",
        "\\end{align}\n",
        "$H_{ij}$ can be thought of as the $(i,j)$ entry of a $n \\times n$ matrix, called the Hessian $H$ of $f$. If $H(x)$ is positive-definite (i.e., its eigenvalues are all greater than zero), then $x$ is a (local) minimum. Unfortunately, the question of whether it is actually the global minimum cannot be answered easily.\n",
        "      </div></li>\n",
        "</ul>"
      ]
    },
    {
      "cell_type": "markdown",
      "metadata": {
        "id": "-amLVfjNno1a",
        "colab_type": "text"
      },
      "source": [
        "### Example\n",
        "\n",
        "<p>\n",
        "<div style=\"text-align: justify\">\n",
        "Consider the following function of $x \\in  \\mathbb R^n$:\n",
        "\\begin{align}\n",
        "f(x) = (\\|x\\|^2 - 1)^2 - 2 x_1^3 = \\left(\\sum_{i=1}^n x_i^2 - 1\\right)^2 - 2 x_1^3\n",
        "\\end{align}\n",
        "Let us make a contour plot of $f$ for $n = 2$.\n",
        "</div>"
      ]
    },
    {
      "cell_type": "code",
      "metadata": {
        "id": "ZWAYTIP6no1d",
        "colab_type": "code",
        "colab": {
          "base_uri": "https://localhost:8080/",
          "height": 281
        },
        "outputId": "1f8ebeb5-f3e3-4193-d773-785a603ba27a"
      },
      "source": [
        "import matplotlib.pyplot as plt\n",
        "import numpy as np\n",
        "\n",
        "def f(x):\n",
        "    return (sum(x**2) - 1)**2 - 2 * x[0]**3\n",
        "\n",
        "x1 = np.arange(-1.0, 2.5, 0.01)\n",
        "x2 = np.arange(-1.5, 1.5, 0.01)\n",
        "\n",
        "X1, X2 = np.meshgrid(x1, x2)\n",
        "F = f(np.array([X1,X2]))\n",
        "\n",
        "clev = [-7,-6,-5,-4,-3,-2,-1,-0.8,-0.6,-0.4,-0.2,0,0.2,0.4,0.6,0.8,1,3,5] # contour curves\n",
        "plt.contourf(X1, X2, F, clev, cmap=plt.cm.Greys, extend='both')\n",
        "plt.colorbar()\n",
        "plt.xlabel('$x_1$')\n",
        "plt.ylabel('$x_2$')\n",
        "plt.show()"
      ],
      "execution_count": 1,
      "outputs": [
        {
          "output_type": "display_data",
          "data": {
            "image/png": "[encoded data removed]",
            "text/plain": [
              "<Figure size 432x288 with 2 Axes>"
            ]
          },
          "metadata": {
            "tags": [],
            "needs_background": "light"
          }
        }
      ]
    },
    {
      "cell_type": "markdown",
      "metadata": {
        "id": "LrNUgq5Tno1r",
        "colab_type": "text"
      },
      "source": [
        "<div style=\"text-align: justify\">\n",
        "The function $f$ has global minimum for $x_1 = 2$ and all other $x_i = 0$, at which it takes value $-7$. We wish to obtain this result numerically. The following code does so using the \"BFGS\" method of \"scipy.optimize.minimize\". Note that we need to pass a point $x^{(0)}$, from which the algorithm starts the search.\n",
        "</div>"
      ]
    },
    {
      "cell_type": "code",
      "metadata": {
        "id": "MDyObVEAno1u",
        "colab_type": "code",
        "colab": {
          "base_uri": "https://localhost:8080/",
          "height": 53
        },
        "outputId": "92413f26-e020-4d2a-84a6-586ef8d25b93"
      },
      "source": [
        "from scipy.optimize import minimize\n",
        "\n",
        "n = 4 # dimension of parameter space\n",
        "x0 = np.ones(n) # initial point in parameter space\n",
        "\n",
        "res = minimize(f, x0, method='BFGS')\n",
        "x_min = res.x\n",
        "\n",
        "print(\"x_min = {0}\".format(x_min))\n",
        "print(\"f(x_min) = {0}\".format(f(x_min)))"
      ],
      "execution_count": 2,
      "outputs": [
        {
          "output_type": "stream",
          "text": [
            "x_min = [2.00000000e+00 1.20203119e-08 1.20203122e-08 1.20203120e-08]\n",
            "f(x_min) = -7.0\n"
          ],
          "name": "stdout"
        }
      ]
    },
    {
      "cell_type": "markdown",
      "metadata": {
        "id": "kjUXTaQfno12",
        "colab_type": "text"
      },
      "source": [
        "<div style=\"text-align: justify\">\n",
        "An alternative method is the Newton-Conjugate-Gradient algorithm, or \"Newton-CG\". This method, however, requires the Jacobian \"jac\" of $f$, that is, the gradient vector. For our example, it is\n",
        "\\begin{align}\n",
        "\\partial_i f(x) = 4 x_i \\left(\\sum_{j=1}^n x_j^2 - 1\\right) - \\delta_{i,1} 6 x_1^2\n",
        "\\end{align}\n",
        "The following code implements it.\n",
        "</div>"
      ]
    },
    {
      "cell_type": "code",
      "metadata": {
        "id": "-fwnu1Njno13",
        "colab_type": "code",
        "colab": {
          "base_uri": "https://localhost:8080/",
          "height": 53
        },
        "outputId": "2ddccb23-0b52-4409-c9cf-4b72205f9eeb"
      },
      "source": [
        "def jac_f(x): # Jacobian of f\n",
        "    n = len(x)\n",
        "    d = np.zeros(n)\n",
        "    d[0] = 4 * x[0] * (sum(x**2) - 1) - 6 * x[0]**2\n",
        "    d[1:] = 4 * x[1:] * (sum(x**2) - 1)\n",
        "    return d\n",
        "\n",
        "n = 4\n",
        "x0 = np.ones(n)\n",
        "\n",
        "res = minimize(f, x0, method='Newton-CG', jac=jac_f)\n",
        "x_min = res.x\n",
        "\n",
        "print(\"x_min = {0}\".format(x_min))\n",
        "print(\"f(x_min) = {0}\".format(f(x_min)))"
      ],
      "execution_count": 3,
      "outputs": [
        {
          "output_type": "stream",
          "text": [
            "x_min = [ 2.00000000e+00 -2.26600606e-10 -2.26600606e-10 -2.26600606e-10]\n",
            "f(x_min) = -7.0\n"
          ],
          "name": "stdout"
        }
      ]
    },
    {
      "cell_type": "markdown",
      "metadata": {
        "id": "74oihLf6no1-",
        "colab_type": "text"
      },
      "source": [
        "<p>\n",
        "<div style=\"text-align: justify\">\n",
        "Furthermore, the method can be supplemented with the Hessian of $f$:\n",
        "\\begin{align}\n",
        "\\partial_i \\partial_j f(x) = 4 \\delta_{i,j} \\left(\\sum_{k=1}^n x_k^2 - 1\\right) + 8 x_i x_j - \\delta_{i,1} \\delta_{j,1} 12 x_1\n",
        "\\end{align}\n",
        "that is\n",
        "\\begin{align}\n",
        "H(x) = 4 (\\|x\\|^2 - 1) I_{n} + \\left(\\begin{array}{ccccc}\n",
        "8 x_1^2 - 12 x_1 & 8 x_1 x_2 & 8 x_1 x_3 & \\cdots & 8 x_1 x_n\n",
        "\\\\\n",
        "8 x_2 x_1 & 8 x_2^2 & 8 x_2 x_3 & \\cdots & 8 x_2 x_n\n",
        "\\\\\n",
        "8 x_3 x_1 & 8 x_3 x_2 & 8 x_3^2 & \\cdots & 8 x_3 x_n\n",
        "\\\\\n",
        "\\vdots & \\vdots & \\vdots & \\ddots & \\vdots\n",
        "\\\\\n",
        "8 x_n x_1 & 8 x_n x_2 & 8 x_n x_3 & \\cdots & 8 x_n^2\n",
        "\\end{array}\\right)\n",
        "\\end{align}\n",
        "for $I_n$ the identity $n \\times n$ matrix. The following code implements it.\n",
        "</div>"
      ]
    },
    {
      "cell_type": "code",
      "metadata": {
        "id": "hZEZo5LHno2B",
        "colab_type": "code",
        "colab": {
          "base_uri": "https://localhost:8080/",
          "height": 53
        },
        "outputId": "7bacc03c-6984-4e9e-9c7e-c7045a0a13d4"
      },
      "source": [
        "def hess_f(x): # Hessian of f\n",
        "    n = len(x)\n",
        "    dd = 4 * (sum(x**2) - 1) * np.identity(n)\n",
        "    for i in range(n):\n",
        "        for j in range(n):\n",
        "            dd[i,j] = dd[i,j] + 8 * x[i] * x[j]\n",
        "    dd[0,0] = dd[0,0] - 12 * x[0]\n",
        "    return dd\n",
        "\n",
        "n = 4\n",
        "x0 = np.ones(n)\n",
        "\n",
        "res = minimize(f, x0, method='Newton-CG', jac=jac_f, hess=hess_f)\n",
        "x_min = res.x\n",
        "\n",
        "print(\"x_min = {0}\".format(x_min))\n",
        "print(\"f(x_min) = {0}\".format(f(x_min)))"
      ],
      "execution_count": 4,
      "outputs": [
        {
          "output_type": "stream",
          "text": [
            "x_min = [ 2.00000000e+00 -3.03389427e-10 -3.03389427e-10 -3.03389427e-10]\n",
            "f(x_min) = -7.0\n"
          ],
          "name": "stdout"
        }
      ]
    },
    {
      "cell_type": "markdown",
      "metadata": {
        "id": "-uXXvL4Pno2I",
        "colab_type": "text"
      },
      "source": [
        "# Optimization with Constraints\n",
        "\n",
        "<p>\n",
        "<div style=\"text-align: justify\">\n",
        "Sometimes, we are tasked with finding the minimum of a function $f$ subject to equality and inequality constraints in the parameter space:\n",
        "\\begin{align}\n",
        "\\text{arg}\\min_{x} f(x) \\ \\ \\ \\ \\ \\text{subject to} \\ \\ c_a(x) = 0, \\ \\tilde c_b(x) \\geq 0\n",
        "\\end{align}\n",
        "for $a = 1,2,..,A$ and $b = 1,2,..,B$ labelling the constraints.\n",
        "</div>\n",
        "<p>\n",
        "<div style=\"text-align: justify\">\n",
        "The theoretical framework to deal with constraints involves the method of Lagrange multipliers. For simplicity, ignore the inequality constraints: we construct the Lagrangian of the problem as\n",
        "\\begin{align}\n",
        "L(x,\\lambda) = f(x) - \\sum_{a=1}^A \\lambda_a c_a(x)\n",
        "\\end{align}\n",
        "with $\\lambda_a$ unknown coefficients which are added to the list of parameters, $y_I := \\{x_i, \\lambda_a\\}$. We then compute the gradient of $L(y)$ wrt $y$:\n",
        "\\begin{align}\n",
        "\\partial_i L(y) = \\partial_i f(x) - \\sum_{a=1}^A \\lambda_a \\partial_i c_a(x), \\ \\ \\ \\ \\ \\partial_a L(y) = c_a(x)\n",
        "\\end{align}\n",
        "Now, setting the gradient to zero gives $n+A$ equations for the same number of variables $x_i$ and $\\lambda_a$:\n",
        "\\begin{align}\n",
        "\\partial_i f(x) = \\sum_{a=1}^A \\lambda_a \\partial_i c_a(x), \\ \\ \\ \\ \\ c_a(x) = 0\n",
        "\\end{align}\n",
        "The second set of equations ensures that the constraints are indeed satisfied, so that we are looking for the minimum of $f$ within the hypersurface $C := \\{x \\in \\mathbb R^n : c_a(x) = 0 \\ \\text{for all} \\ a = 1,2,..,A\\}$. As it turns out, this minimum will always be a point $x \\in C$ at which the tangent space of $C$ coincides with the tangent space of $F := \\{x \\in \\mathbb R^n : f(x) = \\text{const.}\\}$ (indeed, if that were not true, then there would exist a tangent vector in $T_xC$ in which direction $f$ is decreasing, and hence $x$ would not be a minimum). This property is equivalent to the statement that the gradient of $\\sum_{a=1}^A \\lambda_a c_a(x)$ and the grandient of $f(x)$ coincide at $x$, which is ensured by the first set of equations.\n",
        "</div>\n",
        "<p>\n",
        "<div style=\"text-align: justify\">\n",
        "In the special case the constraints are linear and $f$ is quadratic, this is actually a set of linear equations, and can thus be solved analytically: if\n",
        "\\begin{align}\n",
        "\\partial_i f(x) = \\sum_{j=1}^n D_{ij} x_j - E_i, \\ \\ \\ \\ \\ c_a(x) = \\sum_{j=1}^n x_j c_{ja} - k_a\n",
        "\\end{align}\n",
        "with $E_i$ and $k_a$ constants, then the equations read\n",
        "\\begin{align}\n",
        "\\sum_{j=1}^n D_{ij} x_j - \\sum_{a=1}^A c_{ia} \\lambda_a = E_i, \\ \\ \\ \\ \\ \\sum_{j=1}^n x_j c_{ja} = k_a\n",
        "\\end{align}\n",
        "and can thus be summarized in matrix form as\n",
        "\\begin{align}\n",
        "M P = Q, \\ \\ \\ \\ \\ \\text{where} \\ \\ M := \\left(\\begin{array}{cc}\n",
        "D & -c\n",
        "\\\\\n",
        "-c^T & 0\n",
        "\\end{array}\\right), \\ \\ P := \\left(\\begin{array}{c}\n",
        "x\n",
        "\\\\\n",
        "\\lambda\n",
        "\\end{array}\\right), \\ \\ Q := \\left(\\begin{array}{c}\n",
        "E\n",
        "\\\\\n",
        "k\n",
        "\\end{array}\\right)\n",
        "\\end{align}\n",
        "The unique solution is then given by $M^{-1} Q$.\n",
        "</div>\n",
        "<p>\n",
        "<div style=\"text-align: justify\">\n",
        "In general, however, the solution cannot be found analytically, so we must resort to numerical methods, which incidentally also take care of the inequality constraints.\n",
        "</div>"
      ]
    },
    {
      "cell_type": "markdown",
      "metadata": {
        "id": "b969EZGIno2J",
        "colab_type": "text"
      },
      "source": [
        "### Example\n",
        "\n",
        "<p>\n",
        "<div style=\"text-align: justify\">\n",
        "Keeping $f(x)$ as in the example above, we now want to optimize it subject to the following constraints:\n",
        "\\begin{align}\n",
        "\\|x\\|^2 - 1 = 0, \\ \\ \\ \\ \\ -1 \\leq x_i \\leq 1\n",
        "\\end{align}\n",
        "Plugging the equality constraint in $f$, it reduces to $-2 x_1^3$, which is monotonically decreasing: it is then immediate to see that the minimum in the admissible range is $x_1 = 1$ and all other $x_i = 0$, at which it is $f(x) = -2$. The following code derives this result numerically using the \"Sequential Least SQuares Programming (SLSQP)\" method for $n=4$.\n",
        "</div>"
      ]
    },
    {
      "cell_type": "code",
      "metadata": {
        "id": "MBPRsQU9no2L",
        "colab_type": "code",
        "colab": {
          "base_uri": "https://localhost:8080/",
          "height": 53
        },
        "outputId": "61ff660f-8865-4aba-a5bf-02d43dcebbbd"
      },
      "source": [
        "# The inequalities -1 <= x_i <= 1 are actually implemented as bounds, not as inequality constraints.\n",
        "bounds = [[-1,1], [-1,1], [-1,1], [-1,1]]\n",
        "\n",
        "# Next, the constraints. In our case we have only one: c_1 = sum(x**2) - 1.\n",
        "def c(x):\n",
        "    return sum(x**2) - 1\n",
        "\n",
        "def jac_c(x):\n",
        "    return 2 * x\n",
        "\n",
        "cons = [] # list of constraints: each constraint is a dictionary with 'type': 'eq' or 'ineq'\n",
        "cons.append({'type' : 'eq', 'fun' : c, 'jac' : jac_c})\n",
        "\n",
        "# Initial point in parameter space\n",
        "x0 = np.array([0.1,0.1,0.1,0.1])\n",
        "\n",
        "# Finally, we run the solver:\n",
        "res = minimize(f, x0, method='SLSQP', jac=jac_f, constraints=cons, bounds=bounds)\n",
        "x_min = res.x\n",
        "\n",
        "print(\"x_min = {0}\".format(x_min))\n",
        "print(\"f(x_min) = {0}\".format(f(x_min)))"
      ],
      "execution_count": 5,
      "outputs": [
        {
          "output_type": "stream",
          "text": [
            "x_min = [1.00000000e+00 3.01266671e-04 3.01266671e-04 3.01266671e-04]\n",
            "f(x_min) = -1.9999999999999258\n"
          ],
          "name": "stdout"
        }
      ]
    },
    {
      "cell_type": "markdown",
      "metadata": {
        "id": "9U_V7r-Lno2T",
        "colab_type": "text"
      },
      "source": [
        "# Real Life Example: Portfolio Optimization\n",
        "\n",
        "<p>\n",
        "<div style=\"text-align: justify\">\n",
        "Consider an asset whose price is evaluated continuously in time, and denoted by $P(t)$. In general, we are interested in buying the asset at some time $t_0$ and selling it at some later time $t_1$, hoping to make some profit. The profit -- called \"return\" -- is of course\n",
        "\\begin{align}\n",
        "R(t_1,\\Delta t) := P(t_1) - P(t_0)\n",
        "\\end{align}\n",
        "where $\\Delta t = t_1 - t_0$ is the period of time we held onto the asset. Now, the return is a quantity with dimensions of currency, so it is not good if we want to compare it with the returns of other assets. For this reason, we divide it by the initial price $P(t_0)$, thus obatining the \"rate of return\" for the period $\\Delta t$:\n",
        "\\begin{align}\n",
        "r(t,\\Delta t) := \\dfrac{R(t,t - \\Delta t)}{P(t - \\Delta t)} = \\dfrac{P(t)}{P(t - \\Delta t)} - 1\n",
        "\\end{align}\n",
        "The rate of return can be thought of as a percentage: it tells us how much we have earned/lost after a time period $\\Delta t$, as a percentage of our initial investment. For example, suppose $r(\\text{today},1 \\ \\text{year}) = 0.06$, that is, our investment had a yearly rate of return of $6\\%$ in the year just past: this means that, if we sold today the asset that we bought one year ago for $V$ dollars, we would be making a profit of $0.06 \\times V$ dollars.\n",
        "</div>\n",
        "<p>\n",
        "<div style=\"text-align: justify\">\n",
        "How to estimate an asset's $r(t,\\Delta t)$ for future $t$? First, we observe that $r(t,\\Delta t)$ is derived from time series $P(t)$ by differencing: as such, it is expected to be an (approximately) stationary time series. Hence, we can imagine that historical data -- i.e., values $x_\\mu := r(t_\\mu,\\Delta t)$ with $\\mu = 1,..,m$ and $t_\\mu := \\mu \\Delta t$ (for a total period of length $T := m \\Delta t$, where $T = \\text{today}$) -- are $m$ outcomes of a stochastic process $X$ with mean and variance independent of $t$. Hence, the fundamental mean $\\mathbb E[X]$ and variance $\\text{Var}[X] = \\mathbb E[X^2] - \\mathbb E[X]^2$ can be estimated by the sample mean and variance:\n",
        "\\begin{align}\n",
        "\\mathbb E[X] \\approx \\bar r := \\dfrac{1}{m} \\sum_{\\mu = 1}^m x_\\mu, \\ \\ \\ \\ \\ \\text{Var}[X] \\approx \\bar \\sigma^2 := \\dfrac{1}{m} \\sum_{\\mu = 1}^m x_\\mu^2 - \\bar r^2\n",
        "\\end{align}\n",
        "</div>\n",
        "<p>\n",
        "<div style=\"text-align: justify\">\n",
        "More generally, if we have $n$ different assets, each can be associated with a stochastic process $X_{(i)}$ (with $i = 1,2,..,n$). We can then estimate the rate of return $r_i$ of $i$th asset as\n",
        "\\begin{align}\n",
        "\\mathbb E[X_{(i)}] \\approx \\bar r_i = \\dfrac{1}{m} \\sum_{\\mu = 1}^m x_{\\mu,i}\n",
        "\\end{align}\n",
        "where $x_{\\mu,i}$ is the historical rate of return of $i$th asset at time $t_\\mu$. The covariance matrix $\\text{Cov}[X_{(i)},X_{(j)}] = \\mathbb E[X_{(i)}X_{(j)}] - \\mathbb E[X_{(i)}] \\mathbb E[X_{(j)}]$ can be estimated as\n",
        "\\begin{align}\n",
        "\\text{Cov}[X_{(i)},X_{(j)}] \\approx \\bar \\Sigma_{ij} := \\dfrac{1}{m} \\sum_{\\mu=1}^m x_{\\mu, i} x_{\\mu, j} - \\bar r_i \\bar r_j\n",
        "\\end{align}\n",
        "and it is easy to see that $\\bar \\Sigma_{ii} = \\bar \\sigma_i^2$, the sample variance of the $i$th asset. Using matrix notation, we can write\n",
        "\\begin{align}\n",
        "\\mathbb E[X] \\approx \\bar r, \\ \\ \\ \\ \\ \\text{Cov}[X^T,X] \\approx \\bar \\Sigma = \\dfrac{1}{m} x^T x - \\bar r^T \\bar r\n",
        "\\end{align}\n",
        "where we think of $X$ (resp., $\\bar r$) as a $n$-dimensional row-vector with $i$th element $X_{(i)}$ (resp., $\\bar r_i$), and of $x$ as the $m \\times n$ matrix of historical data. (Note that the vector $\\bar r$ is given by the mean value of each column of $x$.)\n",
        "</div>\n",
        "<p>\n",
        "<div style=\"text-align: justify\">\n",
        "Now, a portfolio $P$ of the assets $X_{(1)},..,X_{(n)}$ consists of a linear combination\n",
        "\\begin{align}\n",
        "P = \\sum_{i=1}^n X_{(i)} w_i\n",
        "\\end{align}\n",
        "with weights $0 \\leq w_i \\leq 1$ such that\n",
        "\\begin{align}\n",
        "\\sum_{i=1}^n w_i = 0\n",
        "\\end{align}\n",
        "Collecing the weights into an $n$-dimensional column-vector $w$, we can write compactly\n",
        "\\begin{align}\n",
        "P = X \\cdot w\n",
        "\\end{align}\n",
        "It is now easy to see that the rate of return $r_P$ and the variance $\\sigma_P^2$ (also called \"volatility\") of the portfolio are\n",
        "\\begin{align}\n",
        "r_P(w) = \\mathbb E[P] = \\mathbb E[X] \\cdot w\n",
        "\\end{align}\n",
        "and\n",
        "\\begin{align}\n",
        "\\sigma_P^2(w) = \\mathbb E[P^T P] - \\mathbb E[P^T] \\mathbb E[P] = w^T \\left(\\mathbb E[X^T X] - \\mathbb E[X^T] \\mathbb E[X]\\right) w = w^T \\text{Cov}[X^T,X] w\n",
        "\\end{align}\n",
        "They can therefore be estimated from the historical data as\n",
        "\\begin{align}\n",
        "r_P(w) \\approx \\bar r \\cdot w, \\ \\ \\ \\ \\ \\ \\ \\ \\ \\ \\sigma_P^2(w) \\approx w^T \\bar \\Sigma w = \\dfrac{1}{m} w^T x^T x w - (\\bar r \\cdot w)^2\n",
        "\\end{align}\n",
        "We can now use the methods described above to optimize the portfolio: for example, we can find the weights $w$ that\n",
        "</div>\n",
        "<p>\n",
        "<ol>\n",
        "  <li><div style=\"text-align: justify\">minimize the volatility $\\sigma_P^2$ while producing at least a certain rate of return, $r_P \\geq r_*$</div></li>\n",
        "<p>\n",
        "  <li><div style=\"text-align: justify\">maximize the rate of return $r_P$ while keeping the volatility below an acceptable threshold, $\\sigma_P^2 \\leq \\sigma_*^2$</div></li>\n",
        "<p>\n",
        "  <li><div style=\"text-align: justify\">maximize the Sharpe ratio $r_P/\\sigma_P$</div></li>\n",
        "</ol>\n",
        "<p>\n",
        "<div style=\"text-align: justify\">\n",
        "all under the constraints $0 \\leq w_i \\leq 1$ for all $i=1,2,..,n$ and $\\sum_{i=1}^n w_i = 1$. We can also identify the **efficient frontier**, i.e., the curve $C$ in the $\\sigma_P^2 - r_P$ plane of \"best portfolios\":\n",
        "\\begin{align}\n",
        "C = \\left\\{(\\sigma^2,r) \\in \\mathbb R^2 : r = \\max_{w} r_P(w) \\ \\text{subject to} \\ \\sigma_P^2(w) = \\sigma^2\\right\\}\n",
        "\\end{align}\n",
        "</div>"
      ]
    },
    {
      "cell_type": "markdown",
      "metadata": {
        "id": "RrTV4mp2oDbU",
        "colab_type": "text"
      },
      "source": [
        "In this example, we will import the data from Yahoo Finance using using the yfinance module (see [details](https://aroussi.com/post/python-yahoo-finance)):"
      ]
    },
    {
      "cell_type": "code",
      "metadata": {
        "id": "7ZiUCRq2n7Fu",
        "colab_type": "code",
        "colab": {
          "base_uri": "https://localhost:8080/",
          "height": 374
        },
        "outputId": "1adf0d57-7dcc-4819-ab7e-8b4d5f584e81"
      },
      "source": [
        "!pip install yfinance"
      ],
      "execution_count": 6,
      "outputs": [
        {
          "output_type": "stream",
          "text": [
            "Collecting yfinance\n",
            "  Downloading https://files.pythonhosted.org/packages/c2/31/8b374a12b90def92a4e27d0fc595fc43635f395984e36a075244d98bd265/yfinance-0.1.54.tar.gz\n",
            "Requirement already satisfied: pandas>=0.24 in /usr/local/lib/python3.6/dist-packages (from yfinance) (1.0.5)\n",
            "Requirement already satisfied: numpy>=1.15 in /usr/local/lib/python3.6/dist-packages (from yfinance) (1.18.5)\n",
            "Requirement already satisfied: requests>=2.20 in /usr/local/lib/python3.6/dist-packages (from yfinance) (2.23.0)\n",
            "Requirement already satisfied: multitasking>=0.0.7 in /usr/local/lib/python3.6/dist-packages (from yfinance) (0.0.9)\n",
            "Requirement already satisfied: python-dateutil>=2.6.1 in /usr/local/lib/python3.6/dist-packages (from pandas>=0.24->yfinance) (2.8.1)\n",
            "Requirement already satisfied: pytz>=2017.2 in /usr/local/lib/python3.6/dist-packages (from pandas>=0.24->yfinance) (2018.9)\n",
            "Requirement already satisfied: chardet<4,>=3.0.2 in /usr/local/lib/python3.6/dist-packages (from requests>=2.20->yfinance) (3.0.4)\n",
            "Requirement already satisfied: certifi>=2017.4.17 in /usr/local/lib/python3.6/dist-packages (from requests>=2.20->yfinance) (2020.6.20)\n",
            "Requirement already satisfied: idna<3,>=2.5 in /usr/local/lib/python3.6/dist-packages (from requests>=2.20->yfinance) (2.10)\n",
            "Requirement already satisfied: urllib3!=1.25.0,!=1.25.1,<1.26,>=1.21.1 in /usr/local/lib/python3.6/dist-packages (from requests>=2.20->yfinance) (1.24.3)\n",
            "Requirement already satisfied: six>=1.5 in /usr/local/lib/python3.6/dist-packages (from python-dateutil>=2.6.1->pandas>=0.24->yfinance) (1.12.0)\n",
            "Building wheels for collected packages: yfinance\n",
            "  Building wheel for yfinance (setup.py) ... \u001b[?25l\u001b[?25hdone\n",
            "  Created wheel for yfinance: filename=yfinance-0.1.54-py2.py3-none-any.whl size=22409 sha256=358dcf3d36ca19d59003d3901492686fff7db232843c1186f326d1ef61e8b042\n",
            "  Stored in directory: /root/.cache/pip/wheels/f9/e3/5b/ec24dd2984b12d61e0abf26289746c2436a0e7844f26f2515c\n",
            "Successfully built yfinance\n",
            "Installing collected packages: yfinance\n",
            "Successfully installed yfinance-0.1.54\n"
          ],
          "name": "stdout"
        }
      ]
    },
    {
      "cell_type": "code",
      "metadata": {
        "id": "BgI-kYaqoPRc",
        "colab_type": "code",
        "colab": {}
      },
      "source": [
        "import yfinance as yf\n",
        "\n",
        "ticker1, ticker2, ticker3 = \"AAPL\", \"GOOG\", \"WMT\"\n",
        "security1 = yf.Ticker(ticker1)\n",
        "security2 = yf.Ticker(ticker2)\n",
        "security3 = yf.Ticker(ticker3)\n",
        "\n",
        "df1 = security1.history(start=\"2012-01-03\", end=\"2019-12-31\", interval=\"1d\")\n",
        "df2 = security2.history(start=\"2012-01-03\", end=\"2019-12-31\", interval=\"1d\")\n",
        "df3 = security3.history(start=\"2012-01-03\", end=\"2019-12-31\", interval=\"1d\")"
      ],
      "execution_count": 7,
      "outputs": []
    },
    {
      "cell_type": "code",
      "metadata": {
        "id": "g7fO4-jUno2U",
        "colab_type": "code",
        "colab": {
          "base_uri": "https://localhost:8080/",
          "height": 281
        },
        "outputId": "ccb1b575-ae94-4387-a3a9-39e2235af0d3"
      },
      "source": [
        "import pandas as pd\n",
        "\n",
        "# Create a new dataframe \"df\" with the \"Close\" column of the three companies\n",
        "\n",
        "df = pd.DataFrame()\n",
        "df['AAPL'] = df1['Close']\n",
        "df['GOOG'] = df2['Close']\n",
        "df['WMT'] = df3['Close']\n",
        "\n",
        "# Plot the three time series\n",
        "\n",
        "plt.plot(df['AAPL'], label='AAPL')\n",
        "plt.plot(df['GOOG'], label='GOOG')\n",
        "plt.plot(df['WMT'], label='WMT')\n",
        "plt.legend(loc='upper left')\n",
        "plt.xlabel('$t$')\n",
        "plt.ylabel('$P(t)$')\n",
        "plt.show()"
      ],
      "execution_count": 8,
      "outputs": [
        {
          "output_type": "display_data",
          "data": {
            "image/png": "[encoded data removed]",
            "text/plain": [
              "<Figure size 432x288 with 1 Axes>"
            ]
          },
          "metadata": {
            "tags": [],
            "needs_background": "light"
          }
        }
      ]
    },
    {
      "cell_type": "markdown",
      "metadata": {
        "id": "QCtCFWlXno2Z",
        "colab_type": "text"
      },
      "source": [
        "<div style=\"text-align: justify\">\n",
        "As discussed, this plot does not say much, since we are comparing different prices and the series are not stationary. To obtain (approximately) stationary series, we perform differencing by the time period $\\Delta t$ of interest (in our case, $1$ day), thus obtaining the returns $R$.\n",
        "</div>"
      ]
    },
    {
      "cell_type": "code",
      "metadata": {
        "id": "w9IGYpjqno2b",
        "colab_type": "code",
        "colab": {
          "base_uri": "https://localhost:8080/",
          "height": 281
        },
        "outputId": "2b0bb86a-e3fb-403e-b242-8dc4d53077f2"
      },
      "source": [
        "R = df.diff(periods=1)\n",
        "\n",
        "plt.plot(R['AAPL'], label='AAPL')\n",
        "plt.plot(R['GOOG'], label='GOOG')\n",
        "plt.plot(R['WMT'], label='WMT')\n",
        "plt.legend(loc='upper left')\n",
        "plt.xlabel('$t$')\n",
        "plt.ylabel('$R(t)$')\n",
        "plt.show()"
      ],
      "execution_count": 9,
      "outputs": [
        {
          "output_type": "display_data",
          "data": {
            "image/png": "[encoded data removed]",
            "text/plain": [
              "<Figure size 432x288 with 1 Axes>"
            ]
          },
          "metadata": {
            "tags": [],
            "needs_background": "light"
          }
        }
      ]
    },
    {
      "cell_type": "markdown",
      "metadata": {
        "id": "OhFOmoJYno2g",
        "colab_type": "text"
      },
      "source": [
        "<div style=\"text-align: justify\">\n",
        "This plot still is not good for comparing different companies, since the prices of different stocks are different. We therefore divide each value by the price at the beginning of the period, thus obtaining the rate of returns $r$.\n",
        "</div>"
      ]
    },
    {
      "cell_type": "code",
      "metadata": {
        "id": "rCl43hAyno2i",
        "colab_type": "code",
        "colab": {
          "base_uri": "https://localhost:8080/",
          "height": 281
        },
        "outputId": "c99062d7-3ea4-4300-d7be-e274630a5551"
      },
      "source": [
        "r = R/df.shift(periods=1)\n",
        "x = r[1:] # remove the first row of r (since it consists of NaN), and call the data matrix 'x'\n",
        "\n",
        "plt.plot(r['AAPL'], label='AAPL')\n",
        "plt.plot(r['GOOG'], label='GOOG')\n",
        "plt.plot(r['WMT'], label='WMT')\n",
        "plt.legend(loc='upper left')\n",
        "plt.xlabel('$t$')\n",
        "plt.ylabel('$r(t)$')\n",
        "plt.show()"
      ],
      "execution_count": 10,
      "outputs": [
        {
          "output_type": "display_data",
          "data": {
            "image/png": "[encoded data removed]",
            "text/plain": [
              "<Figure size 432x288 with 1 Axes>"
            ]
          },
          "metadata": {
            "tags": [],
            "needs_background": "light"
          }
        }
      ]
    },
    {
      "cell_type": "markdown",
      "metadata": {
        "id": "Vem9bm89no2n",
        "colab_type": "text"
      },
      "source": [
        "<div style=\"text-align: justify\">\n",
        "Much better. To make sure, let us perform the \"augmented Dickey-Fuller\" test, whose null hypothesis is that the series has a unit root (meaning it is non-stationary). If the p-value is above $0.05$, then we cannot reject the null hypothesis.\n",
        "</div>"
      ]
    },
    {
      "cell_type": "code",
      "metadata": {
        "id": "T5hehljTno2o",
        "colab_type": "code",
        "colab": {
          "base_uri": "https://localhost:8080/",
          "height": 106
        },
        "outputId": "f0298d9e-c36a-46b4-a3f5-5a83ac7fe7b1"
      },
      "source": [
        "from statsmodels.tsa.stattools import adfuller\n",
        "\n",
        "for col in x:\n",
        "    series = x[col].values\n",
        "    result = adfuller(series)\n",
        "    print(\"p-value for {0}: {1}\".format(col,result[1]))"
      ],
      "execution_count": 11,
      "outputs": [
        {
          "output_type": "stream",
          "text": [
            "/usr/local/lib/python3.6/dist-packages/statsmodels/tools/_testing.py:19: FutureWarning: pandas.util.testing is deprecated. Use the functions in the public API at pandas.testing instead.\n",
            "  import pandas.util.testing as tm\n"
          ],
          "name": "stderr"
        },
        {
          "output_type": "stream",
          "text": [
            "p-value for AAPL: 1.067890792775091e-28\n",
            "p-value for GOOG: 3.489488933442868e-30\n",
            "p-value for WMT: 0.0\n"
          ],
          "name": "stdout"
        }
      ]
    },
    {
      "cell_type": "markdown",
      "metadata": {
        "id": "WWTcyi4ano2u",
        "colab_type": "text"
      },
      "source": [
        "<div style=\"text-align: justify\">\n",
        "Since the p-values of all the series are extremely small, we reject th null hypothesis: the series have no unit roots, and are therefore stationary. At this point, we proceed with the construnction of the functions $\\bar r$, $r_P$ and $\\sigma_P^2$ (and their Jacobians) from the data matrix $r$.\n",
        "</div>"
      ]
    },
    {
      "cell_type": "code",
      "metadata": {
        "id": "I27Q4hHRno2w",
        "colab_type": "code",
        "colab": {}
      },
      "source": [
        "def r_bar(X):\n",
        "    return X.mean()\n",
        "\n",
        "def rP(X,w):\n",
        "    return np.dot(r_bar(X),w)\n",
        "\n",
        "def jac_rP(X,w):\n",
        "    return r_bar(X)\n",
        "\n",
        "def sigmaP2(X,w):\n",
        "    m = len(X)\n",
        "    Y = np.dot(X,w)\n",
        "    return (1/m) * np.dot(Y,Y) - np.dot(r_bar(X),w)**2\n",
        "\n",
        "def jac_sigmaP2(X,w):\n",
        "    m = len(X)\n",
        "    XX = np.dot(np.transpose(X),X)\n",
        "    return (2/m) * np.dot(XX,w) - np.dot(r_bar(X),w) * r_bar(X)"
      ],
      "execution_count": 12,
      "outputs": []
    },
    {
      "cell_type": "markdown",
      "metadata": {
        "id": "Z-5-gZfKno22",
        "colab_type": "text"
      },
      "source": [
        "### 1. Minimizing the Volatility\n",
        "\n",
        "<p>\n",
        "<div style=\"text-align: justify\">\n",
        "We wish to minimize the volatility $\\sigma_P^2$ while achieving an expected daily rate of return $r_P \\geq r_*$. The optimization problem is thus\n",
        "\\begin{align}\n",
        "\\text{arg}\\min_{w} f(w) \\ \\ \\ \\ \\ \\text{subject to} \\ \\ c(w) = 0, \\ \\tilde c(w) \\geq 0\n",
        "\\end{align}\n",
        "where $f(w) = \\sigma_P^2(w)$, $c(w) = \\sum_{i=1}^3 w_i - 1$, $\\tilde c(w) = r_P(w) - r_*$. The following code implements it.\n",
        "</div>"
      ]
    },
    {
      "cell_type": "code",
      "metadata": {
        "id": "dnt33QE0no24",
        "colab_type": "code",
        "colab": {
          "base_uri": "https://localhost:8080/",
          "height": 106
        },
        "outputId": "10b983a8-8af3-425e-90f0-5d8e0dd09a89"
      },
      "source": [
        "# minimum desired daily rate of return (to find yearly one, compound: (1+r_star)**n - 1, for n=253 trading days)\n",
        "\n",
        "r_star = 0.0008\n",
        "\n",
        "# initial guess\n",
        "\n",
        "w0 = 0.33 * np.ones(3)\n",
        "\n",
        "# bounds, function to be minimized and constraints\n",
        "\n",
        "bounds = [[0,1] for i in range(len(w0))]\n",
        "\n",
        "def f(w):\n",
        "    return sigmaP2(x,w)\n",
        "\n",
        "def jac_f(w):\n",
        "    return jac_sigmaP2(x,w)\n",
        "\n",
        "def c(w):\n",
        "    return sum(w) - 1\n",
        "\n",
        "def jac_c(w):\n",
        "    return 1.0 * np.ones_like(w)\n",
        "\n",
        "def c_tilde(w):\n",
        "    return rP(x,w) - r_star\n",
        "\n",
        "def jac_c_tilde(w):\n",
        "    return jac_rP(x,w)\n",
        "\n",
        "cons = []\n",
        "cons.append({'type': 'eq', 'fun': c, 'jac': jac_c})\n",
        "cons.append({'type': 'ineq', 'fun': c_tilde, 'jac': jac_c_tilde})\n",
        "\n",
        "# Run the solver\n",
        "\n",
        "from scipy.optimize import minimize\n",
        "res = minimize(f, w0, method='SLSQP', jac=jac_f, constraints=cons, bounds=bounds)\n",
        "w_min1 = res.x\n",
        "\n",
        "print(\"w_min = {0}\".format(w_min1))\n",
        "print(\"sum = {0}\".format(sum(w_min1)))\n",
        "print(\"rP = {0}\".format(rP(x,w_min1)))\n",
        "print(\"sigmaP2 = {0}\".format(sigmaP2(x,w_min1)))\n",
        "print(\"Sharpe = {0}\".format(rP(x,w_min1)/np.sqrt(sigmaP2(x,w_min1))))"
      ],
      "execution_count": 13,
      "outputs": [
        {
          "output_type": "stream",
          "text": [
            "w_min = [0.39549145 0.34239598 0.26211256]\n",
            "sum = 1.0000000000000002\n",
            "rP = 0.0008\n",
            "sigmaP2 = 0.00011471148770853395\n",
            "Sharpe = 0.07469413992328942\n"
          ],
          "name": "stdout"
        }
      ]
    },
    {
      "cell_type": "markdown",
      "metadata": {
        "id": "wUUd1kq0no29",
        "colab_type": "text"
      },
      "source": [
        "### 2. Maximizing the Rate of Return\n",
        "\n",
        "<p>\n",
        "<div style=\"text-align: justify\">\n",
        "We now want to maximize the rate of return $r_P$ while achieving volatility $\\sigma_P^2 \\leq \\sigma_*^2$. The oprimization problem is\n",
        "\\begin{align}\n",
        "\\text{arg}\\min_{w} f(w) \\ \\ \\ \\ \\ \\text{subject to} \\ \\ c(w) = 0, \\ \\tilde c(w) \\geq 0\n",
        "\\end{align}\n",
        "where $f(w) = -r_P(w)$, $c(w) = \\sum_{i=1}^3 w_i - 1$, $\\tilde c(w) = \\sigma_*^2 - \\sigma_P^2$. We implement it in the following code.\n",
        "</div>"
      ]
    },
    {
      "cell_type": "code",
      "metadata": {
        "id": "v8eK_by2no2-",
        "colab_type": "code",
        "colab": {
          "base_uri": "https://localhost:8080/",
          "height": 106
        },
        "outputId": "ddce860f-6563-4808-a586-98e46ca169f9"
      },
      "source": [
        "# maximum acceptable volatility\n",
        "\n",
        "sigma_star2 = 0.00009\n",
        "\n",
        "# initial guess\n",
        "\n",
        "w0 = 0.33 * np.ones(3)\n",
        "\n",
        "# bounds, function to be minimized and constraints\n",
        "\n",
        "bounds = [[0,1] for i in range(len(w0))]\n",
        "\n",
        "def f(w):\n",
        "    return -rP(x,w)\n",
        "\n",
        "def jac_f(w):\n",
        "    return -jac_rP(x,w)\n",
        "\n",
        "def c(w):\n",
        "    return sum(w) - 1\n",
        "\n",
        "def jac_c(w):\n",
        "    return 1.0 * np.ones_like(w)\n",
        "\n",
        "def c_tilde(w):\n",
        "    return sigma_star2 - sigmaP2(x,w)\n",
        "\n",
        "def jac_c_tilde(w):\n",
        "    return -jac_sigmaP2(x,w)\n",
        "\n",
        "cons = []\n",
        "cons.append({'type': 'eq', 'fun': c, 'jac': jac_c})\n",
        "cons.append({'type': 'ineq', 'fun': c_tilde, 'jac': jac_c_tilde})\n",
        "\n",
        "# Run the solver\n",
        "\n",
        "from scipy.optimize import minimize\n",
        "res = minimize(f, w0, method='SLSQP', jac=jac_f, constraints=cons, bounds=bounds)\n",
        "w_min2 = res.x\n",
        "\n",
        "print(\"w_min = {0}\".format(w_min2))\n",
        "print(\"sum = {0}\".format(sum(w_min2)))\n",
        "print(\"rP = {0}\".format(rP(x,w_min2)))\n",
        "print(\"sigmaP2 = {0}\".format(sigmaP2(x,w_min2)))\n",
        "print(\"Sharpe = {0}\".format(rP(x,w_min2)/np.sqrt(sigmaP2(x,w_min2))))"
      ],
      "execution_count": 14,
      "outputs": [
        {
          "output_type": "stream",
          "text": [
            "w_min = [0.21740464 0.27872241 0.50387295]\n",
            "sum = 1.0\n",
            "rP = 0.0006932270658565544\n",
            "sigmaP2 = 9.00289248437532e-05\n",
            "Sharpe = 0.07306080933314706\n"
          ],
          "name": "stdout"
        }
      ]
    },
    {
      "cell_type": "markdown",
      "metadata": {
        "id": "mNy6zJPAno3D",
        "colab_type": "text"
      },
      "source": [
        "### 3. Maximizing the Sharpe Ratio\n",
        "\n",
        "<p>\n",
        "<div style=\"text-align: justify\">\n",
        "We want to maximize the Sharpe ratio $r_P/\\sigma_P$. The problem is then casted in the form\n",
        "\\begin{align}\n",
        "\\text{arg}\\min_{w} f(w) \\ \\ \\ \\ \\ \\text{subject to} \\ \\ c(w) = 0.\n",
        "\\end{align}\n",
        "where $f(w) = -r_P/\\sigma_P$, $c(w) = \\sum_{i=1}^3 w_i - 1$. The code follows.\n",
        "</div>"
      ]
    },
    {
      "cell_type": "code",
      "metadata": {
        "id": "xmI4ZDp2no3E",
        "colab_type": "code",
        "colab": {
          "base_uri": "https://localhost:8080/",
          "height": 106
        },
        "outputId": "834c465c-7efd-40cf-de62-7fbb0bb6b740"
      },
      "source": [
        "# initial guess\n",
        "\n",
        "w0 = 0.33 * np.ones(3)\n",
        "\n",
        "# bounds, function to be minimized and constraints\n",
        "\n",
        "bounds = [[0,1] for i in range(len(w0))]\n",
        "\n",
        "def f(w):\n",
        "    return -rP(x,w)/np.sqrt(sigmaP2(x,w))\n",
        "\n",
        "def jac_f(w):\n",
        "    return jac_sigmaP2(x,w) * rP(x,w)/(2 * sigmaP2(x,w)**(3/2)) - jac_rP(x,w)/np.sqrt(sigmaP2(x,w))\n",
        "\n",
        "def c(w):\n",
        "    return sum(w) - 1\n",
        "\n",
        "def jac_c(w):\n",
        "    return 1.0 * np.ones_like(w)\n",
        "\n",
        "cons = []\n",
        "cons.append({'type': 'eq', 'fun': c, 'jac': jac_c})\n",
        "\n",
        "# Run the solver\n",
        "\n",
        "from scipy.optimize import minimize\n",
        "res = minimize(f, w0, method='SLSQP', jac=jac_f, constraints=cons, bounds=bounds)\n",
        "w_min3 = res.x\n",
        "\n",
        "print(\"w_min = {0}\".format(w_min3))\n",
        "print(\"sum = {0}\".format(sum(w_min3)))\n",
        "print(\"rP = {0}\".format(rP(x,w_min3)))\n",
        "print(\"sigmaP2 = {0}\".format(sigmaP2(x,w_min3)))\n",
        "print(\"Sharpe = {0}\".format(rP(x,w_min3)/np.sqrt(sigmaP2(x,w_min3))))"
      ],
      "execution_count": 15,
      "outputs": [
        {
          "output_type": "stream",
          "text": [
            "w_min = [0.36212291 0.27568794 0.36218916]\n",
            "sum = 1.0\n",
            "rP = 0.0007637226440117048\n",
            "sigmaP2 = 0.00010268345168435862\n",
            "Sharpe = 0.07536773051637927\n"
          ],
          "name": "stdout"
        }
      ]
    },
    {
      "cell_type": "markdown",
      "metadata": {
        "id": "2r__-ShTno3V",
        "colab_type": "text"
      },
      "source": [
        "### Efficient Frontier\n",
        "\n",
        "<p>\n",
        "<div style=\"text-align: justify\">\n",
        "We finally identify the efficient frontier, and check that all the points found above live on it. More precisely, we probe several values $r$ (between the minimum and maximum of $\\bar r$) and, for each such value, we minimize the volatility $\\sigma_P$ while setting $r_P = r$. The optimization problem is therefore\n",
        "\\begin{align}\n",
        "\\text{arg}\\min_{w} f(w) \\ \\ \\ \\ \\ \\text{subject to} \\ \\ c_1(w) = 0, \\ c_2(w) = 0\n",
        "\\end{align}\n",
        "where $f(w) = \\sigma_P^2(w)$, $c_1(w) = \\sum_{i=1}^3 w_i - 1$, $c_2(w) = r_P - r$.\n",
        "</div>"
      ]
    },
    {
      "cell_type": "code",
      "metadata": {
        "id": "KgSCp9eNno3W",
        "colab_type": "code",
        "colab": {
          "base_uri": "https://localhost:8080/",
          "height": 283
        },
        "outputId": "7d938409-95bf-4806-be42-eb6c684b9620"
      },
      "source": [
        "bounds = [[0,1] for i in range(len(w0))]\n",
        "\n",
        "r_max = max(r_bar(r))\n",
        "r_min = min(r_bar(r))\n",
        "r_interval = np.linspace(r_min,r_max,num=30)\n",
        "\n",
        "sigma2s = []\n",
        "for r_star in r_interval:\n",
        "\n",
        "    def f(w):\n",
        "        return sigmaP2(x,w)\n",
        "\n",
        "    def jac_f(w):\n",
        "        return jac_sigmaP2(x,w)\n",
        "\n",
        "    def c1(w):\n",
        "        return sum(w) - 1\n",
        "\n",
        "    def jac_c1(w):\n",
        "        return 1.0 * np.ones_like(w)\n",
        "\n",
        "    def c2(w):\n",
        "        return rP(x,w) - r_star\n",
        "\n",
        "    def jac_c2(w):\n",
        "        return jac_rP(x,w)\n",
        "\n",
        "    cons = []\n",
        "    cons.append({'type': 'eq', 'fun': c1, 'jac': jac_c1})\n",
        "    cons.append({'type': 'eq', 'fun': c2, 'jac': jac_c2})\n",
        "\n",
        "    w0 = 0.33 * np.ones(3)\n",
        "\n",
        "    from scipy.optimize import minimize\n",
        "    res = minimize(f, w0, method='SLSQP', jac=jac_f, constraints=cons, bounds=bounds)\n",
        "\n",
        "    sigma2s.append(sigmaP2(x,res.x))\n",
        "\n",
        "plt.plot(sigmaP2(x,w_min1),rP(x,w_min1),'ro',label='min $\\sigma^2$ for $r = 0.0008$')\n",
        "plt.plot(sigmaP2(x,w_min2),rP(x,w_min2),'bo',label='max $r$ for $\\sigma^2 = 0.00009$')\n",
        "plt.plot(sigmaP2(x,w_min3),rP(x,w_min3),'go',label='max $r/\\sigma$')\n",
        "\n",
        "plt.plot(sigma2s,r_interval,'k',label='efficient frontier')\n",
        "plt.xlabel(\"$\\sigma^2$\")\n",
        "plt.ylabel(\"r\")\n",
        "plt.gca().set_xlim(left=0)\n",
        "plt.gca().set_ylim(bottom=0)\n",
        "plt.legend()\n",
        "plt.show()"
      ],
      "execution_count": 16,
      "outputs": [
        {
          "output_type": "display_data",
          "data": {
            "image/png": "[encoded data removed]",
            "text/plain": [
              "<Figure size 432x288 with 1 Axes>"
            ]
          },
          "metadata": {
            "tags": [],
            "needs_background": "light"
          }
        }
      ]
    }
  ]
}